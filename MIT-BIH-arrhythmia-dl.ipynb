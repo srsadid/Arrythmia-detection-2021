{
 "cells": [
  {
   "cell_type": "markdown",
   "metadata": {},
   "source": [
    "# Detecting arrythmia using Deep Leaning"
   ]
  },
  {
   "cell_type": "markdown",
   "metadata": {},
   "source": [
    "## Loading modules"
   ]
  },
  {
   "cell_type": "code",
   "execution_count": 1,
   "metadata": {},
   "outputs": [],
   "source": [
    "import pandas as pd\n",
    "import numpy as np\n",
    "import wfdb\n",
    "from sklearn.model_selection import train_test_split\n",
    "from sklearn.preprocessing import StandardScaler\n",
    "import matplotlib.pyplot as plt\n",
    "from pathlib import Path"
   ]
  },
  {
   "cell_type": "code",
   "execution_count": 2,
   "metadata": {},
   "outputs": [],
   "source": [
    "from keras.models import Sequential\n",
    "from keras.layers import Conv1D, LSTM, Dense, Dropout, TimeDistributed\n",
    "from keras.optimizers import Adam"
   ]
  },
  {
   "cell_type": "code",
   "execution_count": 3,
   "metadata": {},
   "outputs": [],
   "source": [
    "import matplotlib.pyplot as plt"
   ]
  },
  {
   "cell_type": "markdown",
   "metadata": {},
   "source": [
    "## Download Dataset"
   ]
  },
  {
   "cell_type": "code",
   "execution_count": 5,
   "metadata": {},
   "outputs": [
    {
     "name": "stdout",
     "output_type": "stream",
     "text": [
      "100% [........................................................................] 77030320 / 77030320"
     ]
    }
   ],
   "source": [
    "import wget\n",
    "import zipfile\n",
    "\n",
    "database_filename = \"mit-bih-arrhythmia-database-1.0.0.zip\"\n",
    "database_path = Path(database_filename)\n",
    "\n",
    "if not database_path.exists():\n",
    "    url = f'https://storage.googleapis.com/mitdb-1.0.0.physionet.org/{database_filename}'\n",
    "    wget.download(url)\n",
    "    with zipfile.ZipFile(database_filename, 'r') as zip_ref:\n",
    "        zip_ref.extractall(\".\")"
   ]
  },
  {
   "cell_type": "markdown",
   "metadata": {},
   "source": [
    "## Loading data"
   ]
  },
  {
   "cell_type": "markdown",
   "metadata": {},
   "source": [
    "Loading list of records available, from dataset available [here](https://physionet.org/content/mitdb/1.0.0/)"
   ]
  },
  {
   "cell_type": "code",
   "execution_count": 6,
   "metadata": {},
   "outputs": [],
   "source": [
    "records = np.loadtxt(\"mit-bih-arrhythmia-database-1.0.0/RECORDS\", dtype=int)"
   ]
  },
  {
   "cell_type": "markdown",
   "metadata": {},
   "source": [
    "Defining invalid beats as well as abnormal beats, according to [Physiobank](https://archive.physionet.org/physiobank/annotations.shtml)"
   ]
  },
  {
   "cell_type": "code",
   "execution_count": 7,
   "metadata": {},
   "outputs": [],
   "source": [
    "invalid_beat = [\n",
    "    \"[\", \"!\", \"]\", \"x\", \"(\", \")\", \"p\", \"t\", \n",
    "    \"u\", \"`\", \"'\", \"^\", \"|\", \"~\", \"+\", \"s\", \n",
    "    \"T\", \"*\", \"D\", \"=\", '\"', \"@\"\n",
    "]\n",
    "\n",
    "abnormal_beats = [\n",
    "    \"L\", \"R\", \"B\", \"A\", \"a\", \"J\", \"S\", \"V\", \n",
    "    \"r\", \"F\", \"e\", \"j\", \"n\", \"E\", \"/\", \"f\", \"Q\", \"?\"\n",
    "]"
   ]
  },
  {
   "cell_type": "markdown",
   "metadata": {},
   "source": [
    "## Processing dataset"
   ]
  },
  {
   "cell_type": "markdown",
   "metadata": {},
   "source": [
    "This function classify a beat according to its symbol and the list provided above."
   ]
  },
  {
   "cell_type": "code",
   "execution_count": 8,
   "metadata": {},
   "outputs": [],
   "source": [
    "def classify_beat(symbol):\n",
    "    if symbol in abnormal_beats:\n",
    "        return 1\n",
    "    elif symbol == \"N\" or symbol == \".\":\n",
    "        return 0    "
   ]
  },
  {
   "cell_type": "markdown",
   "metadata": {},
   "source": [
    "Given a signal, the beat location, and the window to be used as a sequence, this function gets the sequence. It will return an empty array in case of an invalid beat or empty sequence."
   ]
  },
  {
   "cell_type": "code",
   "execution_count": 9,
   "metadata": {},
   "outputs": [],
   "source": [
    "def get_sequence(signal, beat_loc, window_sec, fs):\n",
    "    window_one_side = window_sec * fs\n",
    "    beat_start = beat_loc - window_one_side\n",
    "    beat_end = beat_loc + window_one_side\n",
    "    if beat_end < signal.shape[0]:\n",
    "        sequence = signal[beat_start:beat_end, 0]\n",
    "        return sequence.reshape(1, -1, 1)\n",
    "    else:\n",
    "        return np.array([])"
   ]
  },
  {
   "cell_type": "markdown",
   "metadata": {},
   "source": [
    "The code below will build a list of labels and sequences as well as map the sequences for each patient. The percentage calculated represents the ratio of abnormal beats in each patient data."
   ]
  },
  {
   "cell_type": "code",
   "execution_count": 10,
   "metadata": {},
   "outputs": [],
   "source": [
    "all_sequences = []\n",
    "all_labels = []\n",
    "window_sec = 3\n",
    "subject_map = []\n",
    "for subject in records:\n",
    "    record = wfdb.rdrecord(f'mit-bih-arrhythmia-database-1.0.0/{subject}')\n",
    "    annotation = wfdb.rdann(f'mit-bih-arrhythmia-database-1.0.0/{subject}', 'atr')\n",
    "    atr_symbol = annotation.symbol\n",
    "    atr_sample = annotation.sample\n",
    "    fs = record.fs\n",
    "    scaler = StandardScaler()\n",
    "    signal = scaler.fit_transform(record.p_signal)\n",
    "    subject_labels = []\n",
    "    for i, i_sample in enumerate(atr_sample):\n",
    "        label = classify_beat(atr_symbol[i])\n",
    "        sequence = get_sequence(signal, i_sample, window_sec, fs)\n",
    "        if label is not None and sequence.size > 0:\n",
    "            all_sequences.append(sequence)\n",
    "            subject_labels.append(label)\n",
    "\n",
    "    normal_percentage = sum(subject_labels) / len(subject_labels)\n",
    "    subject_map.append({\n",
    "        \"subject\": subject,\n",
    "        \"percentage\": normal_percentage,\n",
    "        \"num_seq\": len(subject_labels),\n",
    "        \"start\": len(all_labels),\n",
    "        \"end\": len(all_labels)+len(subject_labels)\n",
    "    })\n",
    "    all_labels.extend(subject_labels)"
   ]
  },
  {
   "cell_type": "markdown",
   "metadata": {},
   "source": [
    "Creating bins to be used to stratify the train and validation split. "
   ]
  },
  {
   "cell_type": "code",
   "execution_count": 11,
   "metadata": {},
   "outputs": [],
   "source": [
    "subject_map = pd.DataFrame(subject_map)"
   ]
  },
  {
   "cell_type": "markdown",
   "metadata": {},
   "source": [
    "The code presented will create class in each patient is segmented."
   ]
  },
  {
   "cell_type": "code",
   "execution_count": 12,
   "metadata": {},
   "outputs": [],
   "source": [
    "bins = [0, 0.2, 0.6, 1.0]\n",
    "subject_map[\"bin\"] = pd.cut(subject_map['percentage'], bins=bins, labels=False, include_lowest=True)"
   ]
  },
  {
   "cell_type": "markdown",
   "metadata": {},
   "source": [
    "Now, the dataset is split into train and validation, stratifying by the bin defined above."
   ]
  },
  {
   "cell_type": "code",
   "execution_count": 13,
   "metadata": {},
   "outputs": [],
   "source": [
    "train, validation = train_test_split(subject_map, test_size=0.25, stratify=subject_map[\"bin\"], random_state=42)"
   ]
  },
  {
   "cell_type": "markdown",
   "metadata": {},
   "source": [
    "This function build a dataset based on the map for each split."
   ]
  },
  {
   "cell_type": "code",
   "execution_count": 14,
   "metadata": {},
   "outputs": [],
   "source": [
    "def build_dataset(df, all_sequences, all_labels):\n",
    "    sequences = []\n",
    "    labels = []\n",
    "    for i, row in df.iterrows():\n",
    "        start = int(row[\"start\"])\n",
    "        end = int(row[\"end\"])\n",
    "        sequences.extend(all_sequences[start:end])\n",
    "        labels.extend(all_labels[start:end])\n",
    "        \n",
    "    return np.vstack(sequences), np.vstack(labels)"
   ]
  },
  {
   "cell_type": "code",
   "execution_count": 15,
   "metadata": {},
   "outputs": [],
   "source": [
    "X_train, y_train = build_dataset(train, all_sequences, all_labels)\n",
    "X_val, y_val = build_dataset(validation, all_sequences, all_labels)"
   ]
  },
  {
   "cell_type": "code",
   "execution_count": 16,
   "metadata": {},
   "outputs": [
    {
     "data": {
      "text/plain": [
       "((82873, 2160, 1), (82873, 1))"
      ]
     },
     "execution_count": 16,
     "metadata": {},
     "output_type": "execute_result"
    }
   ],
   "source": [
    "X_train.shape, y_train.shape"
   ]
  },
  {
   "cell_type": "markdown",
   "metadata": {},
   "source": [
    "## Training the model"
   ]
  },
  {
   "cell_type": "markdown",
   "metadata": {},
   "source": [
    "### CNN model"
   ]
  },
  {
   "cell_type": "code",
   "execution_count": 17,
   "metadata": {},
   "outputs": [
    {
     "name": "stdout",
     "output_type": "stream",
     "text": [
      "Model: \"sequential\"\n",
      "_________________________________________________________________\n",
      "Layer (type)                 Output Shape              Param #   \n",
      "=================================================================\n",
      "conv1d (Conv1D)              (None, 2160, 8)           40        \n",
      "_________________________________________________________________\n",
      "flatten (Flatten)            (None, 17280)             0         \n",
      "_________________________________________________________________\n",
      "dropout (Dropout)            (None, 17280)             0         \n",
      "_________________________________________________________________\n",
      "output (Dense)               (None, 1)                 17281     \n",
      "=================================================================\n",
      "Total params: 17,321\n",
      "Trainable params: 17,321\n",
      "Non-trainable params: 0\n",
      "_________________________________________________________________\n"
     ]
    }
   ],
   "source": [
    "from keras.models import Sequential\n",
    "from keras.layers import Conv1D, Flatten, Dense, Dropout\n",
    "from keras.optimizers import Adam\n",
    "\n",
    "sequence_size = X_train.shape[1]\n",
    "n_features = 1\n",
    "\n",
    "cnn_model = Sequential([\n",
    "    Conv1D(\n",
    "        filters=8,\n",
    "        kernel_size=4,\n",
    "        strides=1,\n",
    "        input_shape=(sequence_size, n_features),\n",
    "        padding=\"same\",\n",
    "        activation=\"relu\"\n",
    "    ),\n",
    "    Flatten(),\n",
    "    Dropout(0.5),\n",
    "    Dense(\n",
    "        1,\n",
    "        activation=\"sigmoid\",\n",
    "        name=\"output\",\n",
    "    )\n",
    "])\n",
    "\n",
    "optimizer = Adam(lr=0.001)\n",
    "# Compiling the model\n",
    "cnn_model.compile(\n",
    "    optimizer=optimizer,\n",
    "    loss=\"binary_crossentropy\",\n",
    "    metrics=[\"accuracy\"]\n",
    ")\n",
    "cnn_model.summary()"
   ]
  },
  {
   "cell_type": "code",
   "execution_count": 18,
   "metadata": {},
   "outputs": [
    {
     "name": "stdout",
     "output_type": "stream",
     "text": [
      "Epoch 1/15\n",
      "648/648 [==============================] - 3s 5ms/step - loss: 0.2454 - accuracy: 0.9127 - val_loss: 0.5105 - val_accuracy: 0.8326oss: 0.2495 - accura\n",
      "Epoch 2/15\n",
      "648/648 [==============================] - 3s 4ms/step - loss: 0.1894 - accuracy: 0.9385 - val_loss: 0.5571 - val_accuracy: 0.8310oss: 0.1903 - accuracy: 0. - ETA: 0s - loss: 0.1900 - ac\n",
      "Epoch 3/15\n",
      "648/648 [==============================] - 3s 4ms/step - loss: 0.1778 - accuracy: 0.9420 - val_loss: 0.5993 - val_accuracy: 0.8169\n",
      "Epoch 4/15\n",
      "648/648 [==============================] - 3s 4ms/step - loss: 0.1687 - accuracy: 0.9448 - val_loss: 0.6256 - val_accuracy: 0.8213cy\n",
      "Epoch 5/15\n",
      "648/648 [==============================] - 3s 4ms/step - loss: 0.1640 - accuracy: 0.9471 - val_loss: 0.6019 - val_accuracy: 0.8118 0.160 - ETA: 1s - - ETA: 0s - loss: 0.1646 \n",
      "Epoch 6/15\n",
      "648/648 [==============================] - 3s 4ms/step - loss: 0.1606 - accuracy: 0.9490 - val_loss: 0.6606 - val_accuracy: 0.8153\n",
      "Epoch 7/15\n",
      "648/648 [==============================] - 3s 4ms/step - loss: 0.1564 - accuracy: 0.9494 - val_loss: 0.6702 - val_accuracy: 0.7879- accuracy - ETA: 1s - loss: 0.156 - ETA: 0s - loss: 0.1\n",
      "Epoch 8/15\n",
      "648/648 [==============================] - 3s 4ms/step - loss: 0.1535 - accuracy: 0.9505 - val_loss: 0.6738 - val_accuracy: 0.80722 -  - ETA: 0s - loss: 0.1528 - \n",
      "Epoch 9/15\n",
      "648/648 [==============================] - 3s 5ms/step - loss: 0.1490 - accuracy: 0.9521 - val_loss: 0.6950 - val_accuracy: 0.8113s: 0 - ETA: 1s - loss: 0.1473 - ac - ETA: 0s - ETA: 0s - loss: 0.1491 - accuracy: 0.95\n",
      "Epoch 10/15\n",
      "648/648 [==============================] - 3s 5ms/step - loss: 0.1466 - accuracy: 0.9530 - val_loss: 0.6942 - val_accuracy: 0.8072\n",
      "Epoch 11/15\n",
      "648/648 [==============================] - 3s 5ms/step - loss: 0.1461 - accuracy: 0.9533 - val_loss: 0.6557 - val_accuracy: 0.8159\n",
      "Epoch 12/15\n",
      "648/648 [==============================] - 3s 5ms/step - loss: 0.1409 - accuracy: 0.9551 - val_loss: 0.6994 - val_accuracy: 0.8097\n",
      "Epoch 13/15\n",
      "648/648 [==============================] - 3s 5ms/step - loss: 0.1388 - accuracy: 0.9558 - val_loss: 0.6968 - val_accuracy: 0.8185racy: 0. - ETA: 1s - loss: 0.1397 - accuracy: 0.95 - ETA: 1s - loss: 0.138 - ETA: 0s - los\n",
      "Epoch 14/15\n",
      "648/648 [==============================] - 3s 5ms/step - loss: 0.1369 - accuracy: 0.9565 - val_loss: 0.7360 - val_accuracy: 0.8129\n",
      "Epoch 15/15\n",
      "648/648 [==============================] - 3s 5ms/step - loss: 0.1341 - accuracy: 0.9566 - val_loss: 0.7247 - val_accuracy: 0.8180\n"
     ]
    }
   ],
   "source": [
    "hist_cnn = cnn_model.fit(\n",
    "    X_train, \n",
    "    y_train, \n",
    "    batch_size=128,\n",
    "    epochs=15,\n",
    "    validation_data=(X_val, y_val)\n",
    ")"
   ]
  },
  {
   "cell_type": "code",
   "execution_count": 19,
   "metadata": {},
   "outputs": [
    {
     "name": "stdout",
     "output_type": "stream",
     "text": [
      "821/821 [==============================] - 1s 1ms/step - loss: 0.7247 - accuracy: 0.8180\n"
     ]
    },
    {
     "data": {
      "text/plain": [
       "[0.7246946096420288, 0.8179671764373779]"
      ]
     },
     "execution_count": 19,
     "metadata": {},
     "output_type": "execute_result"
    }
   ],
   "source": [
    "cnn_model.evaluate(X_val, y_val)"
   ]
  },
  {
   "cell_type": "code",
   "execution_count": 20,
   "metadata": {},
   "outputs": [
    {
     "data": {
      "image/png": "[encoded data removed]",
      "text/plain": [
       "<Figure size 432x288 with 1 Axes>"
      ]
     },
     "metadata": {
      "needs_background": "light"
     },
     "output_type": "display_data"
    }
   ],
   "source": [
    "# summarize history for accuracy\n",
    "plt.plot(hist_cnn.history['accuracy'])\n",
    "plt.plot(hist_cnn.history['val_accuracy'])\n",
    "plt.title('CNN model accuracy')\n",
    "plt.ylabel('accuracy')\n",
    "plt.xlabel('epoch')\n",
    "plt.legend(['train', 'test'], loc='upper left')\n",
    "plt.show()"
   ]
  },
  {
   "cell_type": "code",
   "execution_count": 21,
   "metadata": {},
   "outputs": [
    {
     "data": {
      "image/png": "[encoded data removed]",
      "text/plain": [
       "<Figure size 432x288 with 1 Axes>"
      ]
     },
     "metadata": {
      "needs_background": "light"
     },
     "output_type": "display_data"
    }
   ],
   "source": [
    "# summarize history for loss\n",
    "plt.plot(hist_cnn.history['loss'])\n",
    "plt.plot(hist_cnn.history['val_loss'])\n",
    "plt.title('CNN model loss')\n",
    "plt.ylabel('loss')\n",
    "plt.xlabel('epoch')\n",
    "plt.legend(['train', 'test'], loc='upper left')\n",
    "plt.show()"
   ]
  },
  {
   "cell_type": "markdown",
   "metadata": {},
   "source": [
    "### CNN with LSTM model"
   ]
  },
  {
   "cell_type": "code",
   "execution_count": 22,
   "metadata": {},
   "outputs": [],
   "source": [
    "sequence_size = X_train.shape[1]\n",
    "n_features = 1 \n",
    "n_subsequences = 4\n",
    "subsequence_size = int(sequence_size / n_subsequences)\n",
    "\n",
    "# Reshaping to be (samples, subsequences, sequence, feature)\n",
    "X_train = X_train.reshape(-1, n_subsequences, subsequence_size, n_features)\n",
    "X_val = X_val.reshape(-1, n_subsequences, subsequence_size, n_features)"
   ]
  },
  {
   "cell_type": "code",
   "execution_count": 23,
   "metadata": {},
   "outputs": [
    {
     "name": "stdout",
     "output_type": "stream",
     "text": [
      "Model: \"sequential_1\"\n",
      "_________________________________________________________________\n",
      "Layer (type)                 Output Shape              Param #   \n",
      "=================================================================\n",
      "time_distributed (TimeDistri (None, 4, 540, 8)         40        \n",
      "_________________________________________________________________\n",
      "time_distributed_1 (TimeDist (None, 4, 4320)           0         \n",
      "_________________________________________________________________\n",
      "lstm (LSTM)                  (None, 4)                 69200     \n",
      "_________________________________________________________________\n",
      "output (Dense)               (None, 1)                 5         \n",
      "=================================================================\n",
      "Total params: 69,245\n",
      "Trainable params: 69,245\n",
      "Non-trainable params: 0\n",
      "_________________________________________________________________\n"
     ]
    }
   ],
   "source": [
    "cnn_lstm_model = Sequential([\n",
    "    TimeDistributed(\n",
    "        Conv1D(\n",
    "            filters=8,\n",
    "            kernel_size=4,\n",
    "            strides=1,\n",
    "            padding=\"same\",\n",
    "            activation=\"relu\"\n",
    "        ), \n",
    "        input_shape=(n_subsequences, subsequence_size, n_features)\n",
    "    ),\n",
    "    TimeDistributed(Flatten()),\n",
    "    LSTM(units=4),\n",
    "    Dense(\n",
    "        1,\n",
    "        activation=\"sigmoid\",\n",
    "        name=\"output\",\n",
    "    )\n",
    "])\n",
    "\n",
    "optimizer = Adam(lr=0.001)\n",
    "# Compiling the model\n",
    "cnn_lstm_model.compile(\n",
    "    optimizer=optimizer,\n",
    "    loss=\"binary_crossentropy\",\n",
    "    metrics=[\"accuracy\"]\n",
    ")\n",
    "cnn_lstm_model.summary()"
   ]
  },
  {
   "cell_type": "code",
   "execution_count": 24,
   "metadata": {},
   "outputs": [
    {
     "name": "stdout",
     "output_type": "stream",
     "text": [
      "Epoch 1/15\n",
      "648/648 [==============================] - 4s 6ms/step - loss: 0.3698 - accuracy: 0.8462 - val_loss: 0.5775 - val_accuracy: 0.7425\n",
      "Epoch 2/15\n",
      "648/648 [==============================] - 3s 5ms/step - loss: 0.2523 - accuracy: 0.9216 - val_loss: 0.5750 - val_accuracy: 0.7685\n",
      "Epoch 3/15\n",
      "648/648 [==============================] - 3s 5ms/step - loss: 0.1977 - accuracy: 0.9365 - val_loss: 0.5953 - val_accuracy: 0.7815\n",
      "Epoch 4/15\n",
      "648/648 [==============================] - 3s 5ms/step - loss: 0.1728 - accuracy: 0.9458 - val_loss: 0.6145 - val_accuracy: 0.7739\n",
      "Epoch 5/15\n",
      "648/648 [==============================] - 3s 5ms/step - loss: 0.1559 - accuracy: 0.9519 - val_loss: 0.6508 - val_accuracy: 0.7865\n",
      "Epoch 6/15\n",
      "648/648 [==============================] - 3s 5ms/step - loss: 0.1401 - accuracy: 0.9581 - val_loss: 0.6506 - val_accuracy: 0.7736\n",
      "Epoch 7/15\n",
      "648/648 [==============================] - 3s 5ms/step - loss: 0.1272 - accuracy: 0.9608 - val_loss: 0.6822 - val_accuracy: 0.8001\n",
      "Epoch 8/15\n",
      "648/648 [==============================] - 3s 5ms/step - loss: 0.1164 - accuracy: 0.9641 - val_loss: 0.6636 - val_accuracy: 0.7736\n",
      "Epoch 9/15\n",
      "648/648 [==============================] - 3s 5ms/step - loss: 0.1072 - accuracy: 0.9664 - val_loss: 0.6281 - val_accuracy: 0.7726\n",
      "Epoch 10/15\n",
      "648/648 [==============================] - 3s 5ms/step - loss: 0.0987 - accuracy: 0.9689 - val_loss: 0.7031 - val_accuracy: 0.7982\n",
      "Epoch 11/15\n",
      "648/648 [==============================] - 3s 5ms/step - loss: 0.0902 - accuracy: 0.9712 - val_loss: 0.6426 - val_accuracy: 0.7943\n",
      "Epoch 12/15\n",
      "648/648 [==============================] - 3s 5ms/step - loss: 0.0836 - accuracy: 0.9729 - val_loss: 0.6490 - val_accuracy: 0.7861\n",
      "Epoch 13/15\n",
      "648/648 [==============================] - 3s 5ms/step - loss: 0.0781 - accuracy: 0.9746 - val_loss: 0.6567 - val_accuracy: 0.8095\n",
      "Epoch 14/15\n",
      "648/648 [==============================] - 3s 5ms/step - loss: 0.0717 - accuracy: 0.9770 - val_loss: 0.6297 - val_accuracy: 0.7895\n",
      "Epoch 15/15\n",
      "648/648 [==============================] - 3s 5ms/step - loss: 0.0681 - accuracy: 0.9780 - val_loss: 0.6779 - val_accuracy: 0.7974\n"
     ]
    }
   ],
   "source": [
    "train_params = {\n",
    "    \"batch_size\": 128,\n",
    "    \"epochs\": 15,\n",
    "    \"verbose\": 1,\n",
    "    \"validation_data\": (X_val, y_val),\n",
    "}\n",
    "\n",
    "history_cnn_lstm = cnn_lstm_model.fit(X_train, y_train, **train_params)"
   ]
  },
  {
   "cell_type": "code",
   "execution_count": 25,
   "metadata": {},
   "outputs": [
    {
     "name": "stdout",
     "output_type": "stream",
     "text": [
      "821/821 [==============================] - 1s 2ms/step - loss: 0.6779 - accuracy: 0.7974\n"
     ]
    },
    {
     "data": {
      "text/plain": [
       "[0.6778692007064819, 0.7974408864974976]"
      ]
     },
     "execution_count": 25,
     "metadata": {},
     "output_type": "execute_result"
    }
   ],
   "source": [
    "cnn_lstm_model.evaluate(X_val, y_val)"
   ]
  },
  {
   "cell_type": "code",
   "execution_count": 26,
   "metadata": {},
   "outputs": [
    {
     "data": {
      "image/png": "[encoded data removed]",
      "text/plain": [
       "<Figure size 432x288 with 1 Axes>"
      ]
     },
     "metadata": {
      "needs_background": "light"
     },
     "output_type": "display_data"
    }
   ],
   "source": [
    "# summarize history for accuracy\n",
    "plt.plot(history_cnn_lstm.history['accuracy'])\n",
    "plt.plot(history_cnn_lstm.history['val_accuracy'])\n",
    "plt.title('CNN-LSTM model accuracy')\n",
    "plt.ylabel('accuracy')\n",
    "plt.xlabel('epoch')\n",
    "plt.legend(['train', 'test'], loc='upper left')\n",
    "plt.show()"
   ]
  },
  {
   "cell_type": "code",
   "execution_count": 27,
   "metadata": {},
   "outputs": [
    {
     "data": {
      "image/png": "[encoded data removed]",
      "text/plain": [
       "<Figure size 432x288 with 1 Axes>"
      ]
     },
     "metadata": {
      "needs_background": "light"
     },
     "output_type": "display_data"
    }
   ],
   "source": [
    "# summarize history for loss\n",
    "plt.plot(history_cnn_lstm.history['loss'])\n",
    "plt.plot(history_cnn_lstm.history['val_loss'])\n",
    "plt.title('CNN-LSTM model loss')\n",
    "plt.ylabel('loss')\n",
    "plt.xlabel('epoch')\n",
    "plt.legend(['train', 'test'], loc='upper left')\n",
    "plt.show()"
   ]
  },
  {
   "cell_type": "code",
   "execution_count": 28,
   "metadata": {},
   "outputs": [],
   "source": [
    "from numba import cuda \n",
    "device = cuda.get_current_device()\n",
    "device.reset()"
   ]
  },
  {
   "cell_type": "code",
   "execution_count": null,
   "metadata": {},
   "outputs": [],
   "source": []
  }
 ],
 "metadata": {
  "kernelspec": {
   "display_name": "Python 3",
   "language": "python",
   "name": "python3"
  },
  "language_info": {
   "codemirror_mode": {
    "name": "ipython",
    "version": 3
   },
   "file_extension": ".py",
   "mimetype": "text/x-python",
   "name": "python",
   "nbconvert_exporter": "python",
   "pygments_lexer": "ipython3",
   "version": "3.8.8"
  }
 },
 "nbformat": 4,
 "nbformat_minor": 4
}
