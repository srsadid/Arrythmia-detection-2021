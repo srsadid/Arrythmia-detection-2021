{
 "cells": [
  {
   "cell_type": "code",
   "execution_count": 24,
   "metadata": {},
   "outputs": [
    {
     "ename": "error",
     "evalue": "unpack_from requires a buffer of at least 92 bytes",
     "output_type": "error",
     "traceback": [
      "\u001b[1;31m---------------------------------------------------------------------------\u001b[0m",
      "\u001b[1;31merror\u001b[0m                                     Traceback (most recent call last)",
      "\u001b[1;32m<ipython-input-24-60f7ee6d0a68>\u001b[0m in \u001b[0;36m<module>\u001b[1;34m\u001b[0m\n\u001b[0;32m     43\u001b[0m \u001b[1;33m\u001b[0m\u001b[0m\n\u001b[0;32m     44\u001b[0m \u001b[1;32mfor\u001b[0m \u001b[0mline\u001b[0m \u001b[1;32min\u001b[0m \u001b[0mPath\u001b[0m\u001b[1;33m(\u001b[0m\u001b[1;34m'./100annotations.txt'\u001b[0m\u001b[1;33m)\u001b[0m\u001b[1;33m.\u001b[0m\u001b[0mopen\u001b[0m\u001b[1;33m(\u001b[0m\u001b[1;33m)\u001b[0m\u001b[1;33m:\u001b[0m\u001b[1;33m\u001b[0m\u001b[1;33m\u001b[0m\u001b[0m\n\u001b[1;32m---> 45\u001b[1;33m     \u001b[0mraw_fields\u001b[0m \u001b[1;33m=\u001b[0m \u001b[0mstruct_unpacker\u001b[0m\u001b[1;33m(\u001b[0m\u001b[0mline\u001b[0m\u001b[1;33m.\u001b[0m\u001b[0mencode\u001b[0m\u001b[1;33m(\u001b[0m\u001b[1;33m)\u001b[0m\u001b[1;33m)\u001b[0m  \u001b[1;31m# split line into field values\u001b[0m\u001b[1;33m\u001b[0m\u001b[1;33m\u001b[0m\u001b[0m\n\u001b[0m\u001b[0;32m     46\u001b[0m     \u001b[0mline_data\u001b[0m \u001b[1;33m=\u001b[0m \u001b[1;33m{\u001b[0m\u001b[1;33m}\u001b[0m\u001b[1;33m\u001b[0m\u001b[1;33m\u001b[0m\u001b[0m\n\u001b[0;32m     47\u001b[0m     \u001b[1;32mfor\u001b[0m \u001b[0mi\u001b[0m \u001b[1;32min\u001b[0m \u001b[0mfield_indices\u001b[0m\u001b[1;33m:\u001b[0m\u001b[1;33m\u001b[0m\u001b[1;33m\u001b[0m\u001b[0m\n",
      "\u001b[1;31merror\u001b[0m: unpack_from requires a buffer of at least 92 bytes"
     ]
    }
   ],
   "source": [
    "import csv\n",
    "import struct\n",
    "from operator import itemgetter\n",
    "from pathlib import Path\n",
    "\n",
    "\n",
    "def get_struct_unpacker(fieldspecs, istart, iwidth):\n",
    "    \"\"\"\n",
    "    Build the format string for struct.unpack to use, based on the fieldspecs.\n",
    "    fieldspecs is a list of [name, start, width] arrays.\n",
    "    Returns a string like \"6s2s3s7x7s4x9s\".\n",
    "    \"\"\"\n",
    "    unpack_len = 0\n",
    "    unpack_fmt = \"\"\n",
    "    for fieldspec in fieldspecs:\n",
    "        start = fieldspec[istart] - 1\n",
    "        end = start + fieldspec[iwidth]\n",
    "        if start > unpack_len:\n",
    "            unpack_fmt += str(start - unpack_len) + \"x\"\n",
    "        unpack_fmt += str(end - start) + \"s\"\n",
    "        unpack_len = end\n",
    "    struct_unpacker = struct.Struct(unpack_fmt).unpack_from\n",
    "    return struct_unpacker\n",
    "\n",
    "\n",
    "fieldspecs = [\n",
    "    # Name, Start, Width, Type\n",
    "    [\"Time\", 1, 12, int],\n",
    "    [\"Sample #\", 13, 21, str],\n",
    "    [\"Type\", 22, 27,str],\n",
    "    [\"Sub\", 28, 32, str],\n",
    "    #[\"Chan\", 33, 37,str],\n",
    "    #[\"Num\", 37, 174 , str],\n",
    "    #[\"Aux\", 24, 13, str]\n",
    "]\n",
    "iname, istart, iwidth, itype = 0, 1, 2, 3  # field indexes\n",
    "\n",
    "fieldspecs.sort(key=itemgetter(istart))\n",
    "struct_unpacker = get_struct_unpacker(fieldspecs, istart, iwidth)\n",
    "field_indices = range(len(fieldspecs))\n",
    "\n",
    "data = []\n",
    "\n",
    "for line in Path('./100annotations.txt').open():\n",
    "    raw_fields = struct_unpacker(line.encode())  # split line into field values\n",
    "    line_data = {}\n",
    "    for i in field_indices:\n",
    "        fieldspec = fieldspecs[i]\n",
    "        fieldname = fieldspec[iname]\n",
    "        cast = fieldspec[itype]\n",
    "        #value = cast(raw_fields[i].decode().strip())\n",
    "        #line_data[fieldname] = value\n",
    "    #data.append(line_data)\n",
    "\n",
    "print(data)\n"
   ]
  },
  {
   "cell_type": "code",
   "execution_count": null,
   "metadata": {},
   "outputs": [],
   "source": []
  }
 ],
 "metadata": {
  "kernelspec": {
   "display_name": "Python 3",
   "language": "python",
   "name": "python3"
  },
  "language_info": {
   "codemirror_mode": {
    "name": "ipython",
    "version": 3
   },
   "file_extension": ".py",
   "mimetype": "text/x-python",
   "name": "python",
   "nbconvert_exporter": "python",
   "pygments_lexer": "ipython3",
   "version": "3.7.7"
  }
 },
 "nbformat": 4,
 "nbformat_minor": 4
}
